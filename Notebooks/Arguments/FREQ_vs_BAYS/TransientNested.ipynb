{
 "cells": [
  {
   "cell_type": "markdown",
   "id": "ca24aa7a",
   "metadata": {},
   "source": [
    "### Nested Sampling"
   ]
  },
  {
   "cell_type": "markdown",
   "id": "7a4c6cbe",
   "metadata": {},
   "source": [
    "Let's try Nested sampling method using dynesty library for posterior sampling and model testing. \\\n",
    "The models are:\n",
    "1. $f_1(t) = b + A e^{-\\alpha (t-t_0)}$\n",
    "2. $f_2(t) = b + A e^{-\\frac{(t-t_0)^2}{2\\sigma^2}}$"
   ]
  },
  {
   "cell_type": "code",
   "execution_count": 1,
   "id": "cbe9d8db",
   "metadata": {},
   "outputs": [],
   "source": [
    "import numpy as np"
   ]
  },
  {
   "cell_type": "code",
   "execution_count": 2,
   "id": "0683f3a7",
   "metadata": {},
   "outputs": [],
   "source": [
    "data = np.load(r\"C:\\Users\\ricca\\Documents\\Unimib-Code\\AstroStatistics\\AML\\Notebooks\\AstroStatistics\\Data\\transient.npy\")"
   ]
  },
  {
   "cell_type": "code",
   "execution_count": 3,
   "id": "a4ec6754",
   "metadata": {},
   "outputs": [],
   "source": [
    "Time = data.T[0]\n",
    "vals = data.T[1]\n",
    "errs = data.T[2]"
   ]
  },
  {
   "cell_type": "code",
   "execution_count": 4,
   "id": "9367e2a8",
   "metadata": {},
   "outputs": [],
   "source": [
    "def burst(theta,t):\n",
    "    A,b,t0,alpha=theta \n",
    "    return np.where(t<t0,b,b+A*np.exp(-alpha*(t-t0)))\n",
    "\n",
    "def gprofile(theta,t):\n",
    "    A,b,t0,sigmaW=theta     \n",
    "    return b+A*np.exp(-(((t-t0)/sigmaW)**2 ) / 2)"
   ]
  },
  {
   "cell_type": "code",
   "execution_count": 5,
   "id": "f1c47f06",
   "metadata": {},
   "outputs": [],
   "source": [
    "t0min,t0max = 0,100\n",
    "Amin,Amax=0,50\n",
    "bmin,bmax=0,50\n",
    "alphamin,alphamax=np.exp(-5),np.exp(5)\n",
    "sigmaWmin,sigmaWmax=np.exp(-2),np.exp(2)"
   ]
  },
  {
   "cell_type": "code",
   "execution_count": 11,
   "id": "5a214e95",
   "metadata": {},
   "outputs": [],
   "source": [
    "import scipy\n",
    "\n",
    "ndim = 4\n",
    "\n",
    "def loglike(theta, data, model):\n",
    "    x, y, sigma_y = data.T\n",
    "    if model =='burst':\n",
    "        y_fit = burst(theta, x)\n",
    "    elif model == 'gprofile':\n",
    "        y_fit = gprofile(theta, x)\n",
    "\n",
    "    # Note I'm not tracking the normalization here! \n",
    "    # Ok because here I only care about the ratio between two evidences, not the evidence itself\n",
    "    return -0.5 * np.sum((y-y_fit)**2 / sigma_y**2 ) \n",
    "\n",
    "\n",
    "def ptform(u,model):\n",
    "    \"\"\"Transforms the uniform random variables `u ~ Unif[0., 1.)`\n",
    "    to the parameters of interest.\"\"\"\n",
    "\n",
    "    x = np.array(u)  # copy u\n",
    "\n",
    "    x[0] = scipy.stats.uniform(loc=Amin,scale=Amax-Amin).ppf(u[0])\n",
    "    x[1] = scipy.stats.uniform(loc=bmin,scale=bmax-bmin).ppf(u[1])\n",
    "    x[2] = scipy.stats.uniform(loc=t0min,scale=t0max-t0min).ppf(u[2])\n",
    "   \n",
    "    if model =='burst':\n",
    "        x[3] = scipy.stats.loguniform.ppf(u[3],alphamin,alphamax)\n",
    "    elif model =='gprofile':\n",
    "        x[3] = scipy.stats.loguniform.ppf(u[3],sigmaWmin,sigmaWmax)\n",
    "        #x[3] = scipy.stats.uniform(loc=sigmaWmin,scale=sigmaWmax-sigmaWmin).ppf(u[3])\n",
    "\n",
    "    return x"
   ]
  },
  {
   "cell_type": "code",
   "execution_count": 12,
   "id": "194531da",
   "metadata": {},
   "outputs": [],
   "source": [
    "import warnings\n",
    "import dynesty"
   ]
  },
  {
   "cell_type": "code",
   "execution_count": null,
   "id": "ed4cb1a2",
   "metadata": {},
   "outputs": [],
   "source": [
    "rfig, raxes = dyplot.runplot(sresults)\n",
    "plt.savefig(r'C:\\Users\\ricca\\Documents\\Unimib-Code\\AstroStatistics\\AML\\Notebooks\\AstroStatistics\\ModelTest\\live1.png')"
   ]
  },
  {
   "cell_type": "code",
   "execution_count": null,
   "id": "b7c2487a",
   "metadata": {},
   "outputs": [],
   "source": [
    "tfig, taxes = dyplot.traceplot(sresults, quantiles=[0.16, 0.5, 0.84], post_color='black', connect=True,  use_math_text=True, show_titles=True, title_kwargs={\"fontsize\": 12}, label_kwargs={\"fontsize\": 14}, truth_color='red', kde=False, trace_cmap='inferno')\n",
    "\n",
    "tfig.suptitle(\"Dynesty Run Summary\", fontsize=16)\n",
    "taxes[0, 0].set_ylabel(\"A\", fontsize=12)\n",
    "taxes[1, 0].set_ylabel(\"b\", fontsize=12)\n",
    "taxes[2, 0].set_ylabel(r\"$\\alpha$\", fontsize=12)\n",
    "taxes[3, 0].set_ylabel(r\"$t_0$\", fontsize=12)\n",
    "taxes[0, 1].set_xlabel(\"A\", fontsize=12)\n",
    "taxes[1, 1].set_xlabel(\"b\", fontsize=12)\n",
    "taxes[2, 1].set_xlabel(r\"$\\alpha$\", fontsize=12)\n",
    "taxes[3, 1].set_xlabel(r\"$t_0$\", fontsize=12)\n",
    "tfig.set_size_inches(15, 10)\n",
    "tfig.tight_layout()\n",
    "\n",
    "plt.savefig(r'C:\\Users\\ricca\\Documents\\Unimib-Code\\AstroStatistics\\AML\\Notebooks\\AstroStatistics\\ModelTest\\traceplot1.png')"
   ]
  },
  {
   "cell_type": "code",
   "execution_count": null,
   "id": "86b93f12",
   "metadata": {},
   "outputs": [],
   "source": [
    "cfig, caxes = dyplot.cornerplot(sresults, color='black', quantiles=[0.16, 0.5, 0.84], show_titles=True)\n",
    "\n",
    "caxes[0, 0].set_ylabel(\"A\", fontsize=12)\n",
    "caxes[1, 0].set_ylabel(\"b\", fontsize=12)\n",
    "caxes[2, 0].set_ylabel(r\"$\\alpha$\", fontsize=12)\n",
    "caxes[3, 0].set_ylabel(r\"$t_0$\", fontsize=12)\n",
    "\n",
    "caxes[3, 0].set_xlabel(\"A\", fontsize=12)\n",
    "caxes[3, 1].set_xlabel(\"b\", fontsize=12)\n",
    "caxes[3, 2].set_xlabel(r\"$\\alpha$\", fontsize=12)\n",
    "caxes[3, 3].set_xlabel(r\"$t_0$\", fontsize=12)\n",
    "cfig.suptitle(\"Dynesty Corner Plot\", fontsize=16)\n",
    "cfig.set_size_inches(15, 10)\n",
    "cfig.tight_layout()\n",
    "\n",
    "plt.savefig(r'C:\\Users\\ricca\\Documents\\Unimib-Code\\AstroStatistics\\AML\\Notebooks\\AstroStatistics\\ModelTest\\corner1.png')"
   ]
  },
  {
   "cell_type": "code",
   "execution_count": null,
   "id": "63ff0e54",
   "metadata": {},
   "outputs": [],
   "source": [
    "samples = sresults.samples  # samples\n",
    "weights = np.exp(sresults.logwt - sresults.logz[-1])  # normalized weights\n",
    "\n",
    "labels = [\"A\",\"b\",\"t0\",\"alpha\"]\n",
    "\n",
    "samples_equal = dyfunc.resample_equal(samples, weights)\n",
    "corner.corner(samples_equal,labels=labels);"
   ]
  },
  {
   "cell_type": "code",
   "execution_count": null,
   "id": "1b3de809",
   "metadata": {},
   "outputs": [],
   "source": [
    "quantiles = [dyfunc.quantile(samps, [0.05, 0.5, 0.95], weights=weights)\n",
    "             for samps in samples.T]\n",
    "for q,l in zip(quantiles,labels):\n",
    "    low,med,up=q\n",
    "    print(l+\"   \"+str(med)+\" +\"+str(up-med)+\" -\"+str(med-low))"
   ]
  },
  {
   "cell_type": "code",
   "execution_count": null,
   "id": "5ae3b440",
   "metadata": {},
   "outputs": [],
   "source": [
    "sresults.summary()"
   ]
  },
  {
   "cell_type": "code",
   "execution_count": 14,
   "id": "184003bb",
   "metadata": {},
   "outputs": [
    {
     "name": "stderr",
     "output_type": "stream",
     "text": [
      "7309it [11:55, 10.22it/s, bound: 24 | nc: 5 | ncall: 71239 | eff(%): 10.260 | loglstar:   -inf < -87.105 <    inf | logz: -93.520 +/-  0.076 | dlogz: 37.212 >  1.009]       \n"
     ]
    },
    {
     "ename": "KeyboardInterrupt",
     "evalue": "",
     "output_type": "error",
     "traceback": [
      "\u001b[31m---------------------------------------------------------------------------\u001b[39m",
      "\u001b[31mKeyboardInterrupt\u001b[39m                         Traceback (most recent call last)",
      "\u001b[36mCell\u001b[39m\u001b[36m \u001b[39m\u001b[32mIn[14]\u001b[39m\u001b[32m, line 8\u001b[39m\n\u001b[32m      6\u001b[39m \u001b[38;5;66;03m# Define and run sampler\u001b[39;00m\n\u001b[32m      7\u001b[39m sampler = dynesty.NestedSampler(loglike, ptform, ndim,logl_args=[data,\u001b[33m'\u001b[39m\u001b[33mburst\u001b[39m\u001b[33m'\u001b[39m],ptform_args=[\u001b[33m'\u001b[39m\u001b[33mburst\u001b[39m\u001b[33m'\u001b[39m],nlive=\u001b[32m1000\u001b[39m,bound=\u001b[33m'\u001b[39m\u001b[33mballs\u001b[39m\u001b[33m'\u001b[39m)\n\u001b[32m----> \u001b[39m\u001b[32m8\u001b[39m \u001b[43msampler\u001b[49m\u001b[43m.\u001b[49m\u001b[43mrun_nested\u001b[49m\u001b[43m(\u001b[49m\u001b[43m)\u001b[49m\n\u001b[32m      9\u001b[39m sresults = sampler.results\n",
      "\u001b[36mFile \u001b[39m\u001b[32mc:\\Users\\ricca\\Documents\\Unimib-Code\\AstroStatistics\\AML\\Lib\\site-packages\\dynesty\\sampler.py:1025\u001b[39m, in \u001b[36mSampler.run_nested\u001b[39m\u001b[34m(self, maxiter, maxcall, dlogz, logl_max, n_effective, add_live, print_progress, print_func, save_bounds, checkpoint_file, checkpoint_every, resume)\u001b[39m\n\u001b[32m   1023\u001b[39m \u001b[38;5;28;01mtry\u001b[39;00m:\n\u001b[32m   1024\u001b[39m     ncall = \u001b[38;5;28mself\u001b[39m.ncall\n\u001b[32m-> \u001b[39m\u001b[32m1025\u001b[39m \u001b[43m    \u001b[49m\u001b[38;5;28;43;01mfor\u001b[39;49;00m\u001b[43m \u001b[49m\u001b[43mit\u001b[49m\u001b[43m,\u001b[49m\u001b[43m \u001b[49m\u001b[43mresults\u001b[49m\u001b[43m \u001b[49m\u001b[38;5;129;43;01min\u001b[39;49;00m\u001b[43m \u001b[49m\u001b[38;5;28;43menumerate\u001b[39;49m\u001b[43m(\u001b[49m\n\u001b[32m   1026\u001b[39m \u001b[43m            \u001b[49m\u001b[38;5;28;43mself\u001b[39;49m\u001b[43m.\u001b[49m\u001b[43msample\u001b[49m\u001b[43m(\u001b[49m\u001b[43mmaxiter\u001b[49m\u001b[43m=\u001b[49m\u001b[43mmaxiter\u001b[49m\u001b[43m,\u001b[49m\n\u001b[32m   1027\u001b[39m \u001b[43m                        \u001b[49m\u001b[43mmaxcall\u001b[49m\u001b[43m=\u001b[49m\u001b[43mmaxcall\u001b[49m\u001b[43m,\u001b[49m\n\u001b[32m   1028\u001b[39m \u001b[43m                        \u001b[49m\u001b[43mdlogz\u001b[49m\u001b[43m=\u001b[49m\u001b[43mdlogz\u001b[49m\u001b[43m,\u001b[49m\n\u001b[32m   1029\u001b[39m \u001b[43m                        \u001b[49m\u001b[43mlogl_max\u001b[49m\u001b[43m=\u001b[49m\u001b[43mlogl_max\u001b[49m\u001b[43m,\u001b[49m\n\u001b[32m   1030\u001b[39m \u001b[43m                        \u001b[49m\u001b[43msave_bounds\u001b[49m\u001b[43m=\u001b[49m\u001b[43msave_bounds\u001b[49m\u001b[43m,\u001b[49m\n\u001b[32m   1031\u001b[39m \u001b[43m                        \u001b[49m\u001b[43msave_samples\u001b[49m\u001b[43m=\u001b[49m\u001b[38;5;28;43;01mTrue\u001b[39;49;00m\u001b[43m,\u001b[49m\n\u001b[32m   1032\u001b[39m \u001b[43m                        \u001b[49m\u001b[43mn_effective\u001b[49m\u001b[43m=\u001b[49m\u001b[43mn_effective\u001b[49m\u001b[43m,\u001b[49m\n\u001b[32m   1033\u001b[39m \u001b[43m                        \u001b[49m\u001b[43mresume\u001b[49m\u001b[43m=\u001b[49m\u001b[43mresume\u001b[49m\u001b[43m,\u001b[49m\n\u001b[32m   1034\u001b[39m \u001b[43m                        \u001b[49m\u001b[43madd_live\u001b[49m\u001b[43m=\u001b[49m\u001b[43madd_live\u001b[49m\u001b[43m)\u001b[49m\u001b[43m)\u001b[49m\u001b[43m:\u001b[49m\n\u001b[32m   1035\u001b[39m \u001b[43m        \u001b[49m\u001b[43mncall\u001b[49m\u001b[43m \u001b[49m\u001b[43m+\u001b[49m\u001b[43m=\u001b[49m\u001b[43m \u001b[49m\u001b[43mresults\u001b[49m\u001b[43m.\u001b[49m\u001b[43mnc\u001b[49m\n\u001b[32m   1037\u001b[39m \u001b[43m        \u001b[49m\u001b[38;5;66;43;03m# Print progress.\u001b[39;49;00m\n",
      "\u001b[36mFile \u001b[39m\u001b[32mc:\\Users\\ricca\\Documents\\Unimib-Code\\AstroStatistics\\AML\\Lib\\site-packages\\dynesty\\sampler.py:848\u001b[39m, in \u001b[36mSampler.sample\u001b[39m\u001b[34m(self, maxiter, maxcall, dlogz, logl_max, n_effective, add_live, save_bounds, save_samples, resume)\u001b[39m\n\u001b[32m    843\u001b[39m     old_blob = \u001b[38;5;28;01mNone\u001b[39;00m\n\u001b[32m    845\u001b[39m \u001b[38;5;66;03m# Sample a new live point from within the likelihood constraint\u001b[39;00m\n\u001b[32m    846\u001b[39m \u001b[38;5;66;03m# `logl > loglstar` using the bounding distribution and sampling\u001b[39;00m\n\u001b[32m    847\u001b[39m \u001b[38;5;66;03m# method from our sampler.\u001b[39;00m\n\u001b[32m--> \u001b[39m\u001b[32m848\u001b[39m u, v, logl, nc = \u001b[38;5;28;43mself\u001b[39;49m\u001b[43m.\u001b[49m\u001b[43m_new_point\u001b[49m\u001b[43m(\u001b[49m\u001b[43mloglstar_new\u001b[49m\u001b[43m)\u001b[49m\n\u001b[32m    849\u001b[39m ncall += nc\n\u001b[32m    850\u001b[39m \u001b[38;5;28mself\u001b[39m.ncall += nc\n",
      "\u001b[36mFile \u001b[39m\u001b[32mc:\\Users\\ricca\\Documents\\Unimib-Code\\AstroStatistics\\AML\\Lib\\site-packages\\dynesty\\sampler.py:421\u001b[39m, in \u001b[36mSampler._new_point\u001b[39m\u001b[34m(self, loglstar)\u001b[39m\n\u001b[32m    418\u001b[39m ncall_accum = \u001b[32m0\u001b[39m\n\u001b[32m    419\u001b[39m \u001b[38;5;28;01mwhile\u001b[39;00m \u001b[38;5;28;01mTrue\u001b[39;00m:\n\u001b[32m    420\u001b[39m     \u001b[38;5;66;03m# Get the next point from the queue\u001b[39;00m\n\u001b[32m--> \u001b[39m\u001b[32m421\u001b[39m     u, v, logl, nc, blob = \u001b[38;5;28;43mself\u001b[39;49m\u001b[43m.\u001b[49m\u001b[43m_get_point_value\u001b[49m\u001b[43m(\u001b[49m\u001b[43mloglstar\u001b[49m\u001b[43m)\u001b[49m\n\u001b[32m    422\u001b[39m     ncall += nc\n\u001b[32m    423\u001b[39m     ncall_accum += nc\n",
      "\u001b[36mFile \u001b[39m\u001b[32mc:\\Users\\ricca\\Documents\\Unimib-Code\\AstroStatistics\\AML\\Lib\\site-packages\\dynesty\\sampler.py:404\u001b[39m, in \u001b[36mSampler._get_point_value\u001b[39m\u001b[34m(self, loglstar)\u001b[39m\n\u001b[32m    402\u001b[39m \u001b[38;5;66;03m# If the queue is empty, refill it.\u001b[39;00m\n\u001b[32m    403\u001b[39m \u001b[38;5;28;01mif\u001b[39;00m \u001b[38;5;28mself\u001b[39m.nqueue <= \u001b[32m0\u001b[39m:\n\u001b[32m--> \u001b[39m\u001b[32m404\u001b[39m     \u001b[38;5;28;43mself\u001b[39;49m\u001b[43m.\u001b[49m\u001b[43m_fill_queue\u001b[49m\u001b[43m(\u001b[49m\u001b[43mloglstar\u001b[49m\u001b[43m)\u001b[49m\n\u001b[32m    406\u001b[39m \u001b[38;5;66;03m# Grab the earliest entry.\u001b[39;00m\n\u001b[32m    407\u001b[39m u, v, logl, nc, blob = \u001b[38;5;28mself\u001b[39m.queue.pop(\u001b[32m0\u001b[39m)\n",
      "\u001b[36mFile \u001b[39m\u001b[32mc:\\Users\\ricca\\Documents\\Unimib-Code\\AstroStatistics\\AML\\Lib\\site-packages\\dynesty\\sampler.py:361\u001b[39m, in \u001b[36mSampler._fill_queue\u001b[39m\u001b[34m(self, loglstar)\u001b[39m\n\u001b[32m    359\u001b[39m evolve_point = \u001b[38;5;28mself\u001b[39m.evolve_point\n\u001b[32m    360\u001b[39m \u001b[38;5;28;01mwhile\u001b[39;00m \u001b[38;5;28mself\u001b[39m.nqueue < \u001b[38;5;28mself\u001b[39m.queue_size:\n\u001b[32m--> \u001b[39m\u001b[32m361\u001b[39m     point, axes = \u001b[38;5;28;43mself\u001b[39;49m\u001b[43m.\u001b[49m\u001b[43mpropose_point\u001b[49m\u001b[43m(\u001b[49m\u001b[43m*\u001b[49m\u001b[43margs\u001b[49m\u001b[43m)\u001b[49m\n\u001b[32m    362\u001b[39m     point_queue.append(point)\n\u001b[32m    363\u001b[39m     axes_queue.append(axes)\n",
      "\u001b[36mFile \u001b[39m\u001b[32mc:\\Users\\ricca\\Documents\\Unimib-Code\\AstroStatistics\\AML\\Lib\\site-packages\\dynesty\\nestedsamplers.py:877\u001b[39m, in \u001b[36mRadFriendsSampler.propose_unif\u001b[39m\u001b[34m(self, *args)\u001b[39m\n\u001b[32m    871\u001b[39m \u001b[38;5;250m\u001b[39m\u001b[33;03m\"\"\"Propose a new live point by sampling *uniformly* within\u001b[39;00m\n\u001b[32m    872\u001b[39m \u001b[33;03mthe union of N-spheres defined by our live points.\"\"\"\u001b[39;00m\n\u001b[32m    874\u001b[39m \u001b[38;5;28;01mwhile\u001b[39;00m \u001b[38;5;28;01mTrue\u001b[39;00m:\n\u001b[32m    875\u001b[39m     \u001b[38;5;66;03m# Sample a point `u` from the union of N-spheres along with the\u001b[39;00m\n\u001b[32m    876\u001b[39m     \u001b[38;5;66;03m# number of overlapping spheres `q` at point `u`.\u001b[39;00m\n\u001b[32m--> \u001b[39m\u001b[32m877\u001b[39m     u, q = \u001b[38;5;28;43mself\u001b[39;49m\u001b[43m.\u001b[49m\u001b[43mradfriends\u001b[49m\u001b[43m.\u001b[49m\u001b[43msample\u001b[49m\u001b[43m(\u001b[49m\u001b[38;5;28;43mself\u001b[39;49m\u001b[43m.\u001b[49m\u001b[43mlive_u\u001b[49m\u001b[43m[\u001b[49m\u001b[43m:\u001b[49m\u001b[43m,\u001b[49m\u001b[43m \u001b[49m\u001b[43m:\u001b[49m\u001b[38;5;28;43mself\u001b[39;49m\u001b[43m.\u001b[49m\u001b[43mncdim\u001b[49m\u001b[43m]\u001b[49m\u001b[43m,\u001b[49m\n\u001b[32m    878\u001b[39m \u001b[43m                                  \u001b[49m\u001b[43mrstate\u001b[49m\u001b[43m=\u001b[49m\u001b[38;5;28;43mself\u001b[39;49m\u001b[43m.\u001b[49m\u001b[43mrstate\u001b[49m\u001b[43m,\u001b[49m\n\u001b[32m    879\u001b[39m \u001b[43m                                  \u001b[49m\u001b[43mreturn_q\u001b[49m\u001b[43m=\u001b[49m\u001b[38;5;28;43;01mTrue\u001b[39;49;00m\u001b[43m)\u001b[49m\n\u001b[32m    881\u001b[39m     \u001b[38;5;66;03m# Check if our sample is within the unit cube.\u001b[39;00m\n\u001b[32m    882\u001b[39m     \u001b[38;5;28;01mif\u001b[39;00m unitcheck(u, \u001b[38;5;28mself\u001b[39m.nonbounded):\n\u001b[32m    883\u001b[39m         \u001b[38;5;66;03m# Accept the point with probability 1/q to account for\u001b[39;00m\n\u001b[32m    884\u001b[39m         \u001b[38;5;66;03m# overlapping balls.\u001b[39;00m\n",
      "\u001b[36mFile \u001b[39m\u001b[32mc:\\Users\\ricca\\Documents\\Unimib-Code\\AstroStatistics\\AML\\Lib\\site-packages\\dynesty\\bounding.py:717\u001b[39m, in \u001b[36mRadFriends.sample\u001b[39m\u001b[34m(self, ctrs, rstate, return_q)\u001b[39m\n\u001b[32m    714\u001b[39m nctrs = \u001b[38;5;28mlen\u001b[39m(ctrs)  \u001b[38;5;66;03m# number of balls\u001b[39;00m\n\u001b[32m    716\u001b[39m \u001b[38;5;28;01mwhile\u001b[39;00m \u001b[38;5;28;01mTrue\u001b[39;00m:\n\u001b[32m--> \u001b[39m\u001b[32m717\u001b[39m     ds = \u001b[43mrandsphere\u001b[49m\u001b[43m(\u001b[49m\u001b[38;5;28;43mself\u001b[39;49m\u001b[43m.\u001b[49m\u001b[43mn\u001b[49m\u001b[43m,\u001b[49m\u001b[43m \u001b[49m\u001b[43mrstate\u001b[49m\u001b[43m=\u001b[49m\u001b[43mrstate\u001b[49m\u001b[43m)\u001b[49m\n\u001b[32m    718\u001b[39m     dx = np.dot(ds, \u001b[38;5;28mself\u001b[39m.axes)\n\u001b[32m    720\u001b[39m     \u001b[38;5;66;03m# If there is only one ball, sample from it.\u001b[39;00m\n",
      "\u001b[36mFile \u001b[39m\u001b[32mc:\\Users\\ricca\\Documents\\Unimib-Code\\AstroStatistics\\AML\\Lib\\site-packages\\dynesty\\bounding.py:1195\u001b[39m, in \u001b[36mrandsphere\u001b[39m\u001b[34m(n, rstate)\u001b[39m\n\u001b[32m   1192\u001b[39m \u001b[38;5;28;01mdef\u001b[39;00m\u001b[38;5;250m \u001b[39m\u001b[34mrandsphere\u001b[39m(n, rstate=\u001b[38;5;28;01mNone\u001b[39;00m):\n\u001b[32m   1193\u001b[39m \u001b[38;5;250m    \u001b[39m\u001b[33;03m\"\"\"Draw a point uniformly within an `n`-dimensional unit sphere.\"\"\"\u001b[39;00m\n\u001b[32m-> \u001b[39m\u001b[32m1195\u001b[39m     z = \u001b[43mrstate\u001b[49m\u001b[43m.\u001b[49m\u001b[43mstandard_normal\u001b[49m\u001b[43m(\u001b[49m\u001b[43msize\u001b[49m\u001b[43m=\u001b[49m\u001b[43mn\u001b[49m\u001b[43m)\u001b[49m  \u001b[38;5;66;03m# initial n-dim vector\u001b[39;00m\n\u001b[32m   1196\u001b[39m     \u001b[38;5;66;03m# notice I use random () instead of uniform\u001b[39;00m\n\u001b[32m   1197\u001b[39m     \u001b[38;5;66;03m# and standard_norm instead of normal as those are faster\u001b[39;00m\n\u001b[32m   1198\u001b[39m     \u001b[38;5;66;03m# as this is a time-critical function\u001b[39;00m\n\u001b[32m   1199\u001b[39m     xhat = z * (rstate.random()**(\u001b[32m1.\u001b[39m / n) / lalg.norm(z, check_finite=\u001b[38;5;28;01mFalse\u001b[39;00m)\n\u001b[32m   1200\u001b[39m                 )  \u001b[38;5;66;03m# scale\u001b[39;00m\n",
      "\u001b[31mKeyboardInterrupt\u001b[39m: "
     ]
    }
   ],
   "source": [
    "with warnings.catch_warnings():\n",
    "    # Potentially dangerous, but hey I know what I'm doing. \n",
    "    # Those warnings come from regions where the likelihood is ~zero\n",
    "    warnings.simplefilter(\"ignore\", category=RuntimeWarning)\n",
    "\n",
    "    # Define and run sampler\n",
    "    sampler = dynesty.NestedSampler(loglike, ptform, ndim,logl_args=[data,'burst'],ptform_args=['burst'],nlive=1000,bound='balls')\n",
    "    sampler.run_nested()\n",
    "    sresults = sampler.results"
   ]
  },
  {
   "cell_type": "code",
   "execution_count": null,
   "id": "926c9ee4",
   "metadata": {},
   "outputs": [],
   "source": []
  }
 ],
 "metadata": {
  "kernelspec": {
   "display_name": "AML",
   "language": "python",
   "name": "python3"
  },
  "language_info": {
   "codemirror_mode": {
    "name": "ipython",
    "version": 3
   },
   "file_extension": ".py",
   "mimetype": "text/x-python",
   "name": "python",
   "nbconvert_exporter": "python",
   "pygments_lexer": "ipython3",
   "version": "3.12.10"
  }
 },
 "nbformat": 4,
 "nbformat_minor": 5
}
