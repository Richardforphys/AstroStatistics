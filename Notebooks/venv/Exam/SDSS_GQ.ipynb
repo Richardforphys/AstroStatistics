{
 "cells": [
  {
   "cell_type": "markdown",
   "id": "370847e8",
   "metadata": {},
   "source": [
    "# SDSS Galaxies vs Quasars"
   ]
  },
  {
   "cell_type": "markdown",
   "id": "a2e9e559",
   "metadata": {},
   "source": [
    "Tasks\n",
    "- Create arrays for the (u-g), (g-r), (r-i), (i-z) colors. Also create an array with the class labels where galaxy=0 and quasar=1.\n",
    "- Classify the dataset against the target label.\n",
    "- Try some of the classification methods we've seen so far and evaluate the performance using the ROC curve.\n",
    "- Remember to split the dataset into training and validation..."
   ]
  },
  {
   "cell_type": "markdown",
   "id": "d1e5b3ab",
   "metadata": {},
   "source": []
  }
 ],
 "metadata": {
  "language_info": {
   "name": "python"
  }
 },
 "nbformat": 4,
 "nbformat_minor": 5
}
