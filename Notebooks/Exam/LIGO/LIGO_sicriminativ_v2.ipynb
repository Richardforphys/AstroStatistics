{
 "cells": [
  {
   "cell_type": "code",
   "execution_count": null,
   "id": "66f141ac",
   "metadata": {},
   "outputs": [],
   "source": [
    "import h5py\n",
    "import numpy as np\n",
    "import matplotlib.pyplot as plt\n",
    "import pandas as pd\n",
    "import joblib\n",
    "import sys\n",
    "sys.path.append(r\"C:\\Users\\ricca\\Documents\\Unimib-Code\\AstroStatistics\\Notebooks\")\n",
    "from Utilities import plot_settings"
   ]
  },
  {
   "cell_type": "code",
   "execution_count": null,
   "id": "c9ea5405",
   "metadata": {},
   "outputs": [],
   "source": [
    "y = np.load(r\"C:\\Users\\ricca\\Documents\\Unimib-Code\\AstroStatistics\\Notebooks\\Exam\\LIGO\\Npy\\y_ds.npy\")"
   ]
  },
  {
   "cell_type": "code",
   "execution_count": null,
   "id": "021a29fa",
   "metadata": {},
   "outputs": [],
   "source": [
    "data = np.load(r\"C:\\Users\\ricca\\Documents\\Unimib-Code\\AstroStatistics\\Notebooks\\Exam\\LIGO\\Npy\\data_ds.npy\")"
   ]
  },
  {
   "cell_type": "code",
   "execution_count": null,
   "id": "ff3c1cd2",
   "metadata": {},
   "outputs": [],
   "source": [
    "keys = np.load(r\"C:\\Users\\ricca\\Documents\\Unimib-Code\\AstroStatistics\\Notebooks\\Exam\\LIGO\\Npy\\keys.npy\")"
   ]
  },
  {
   "cell_type": "code",
   "execution_count": null,
   "id": "dc59c2d0",
   "metadata": {},
   "outputs": [],
   "source": []
  }
 ],
 "metadata": {
  "language_info": {
   "name": "python"
  }
 },
 "nbformat": 4,
 "nbformat_minor": 5
}
