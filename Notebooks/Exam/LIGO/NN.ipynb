{
 "cells": [
  {
   "cell_type": "markdown",
   "id": "09cffcef",
   "metadata": {},
   "source": [
    "# LIGO - Gravitational Waves Detectability"
   ]
  }
 ],
 "metadata": {
  "language_info": {
   "name": "python"
  }
 },
 "nbformat": 4,
 "nbformat_minor": 5
}
