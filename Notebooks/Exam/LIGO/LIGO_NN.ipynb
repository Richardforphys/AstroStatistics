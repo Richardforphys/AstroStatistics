{
 "cells": [
  {
   "cell_type": "markdown",
   "id": "c68490ad",
   "metadata": {},
   "source": [
    "# LIGO - Gravitational Waves Detectability"
   ]
  },
  {
   "cell_type": "code",
   "execution_count": 1,
   "id": "13a8eb36",
   "metadata": {},
   "outputs": [],
   "source": [
    "import h5py\n",
    "import numpy as np\n",
    "import matplotlib.pyplot as plt\n",
    "import pandas as pd\n",
    "import joblib\n",
    "import sys\n",
    "sys.path.append(r\"C:\\Users\\ricca\\Documents\\Unimib-Code\\AstroStatistics\\Notebooks\")\n",
    "from Utilities import plot_settings"
   ]
  },
  {
   "cell_type": "markdown",
   "id": "31c95a17",
   "metadata": {},
   "source": [
    "Loading downsampled data with unbalanced classes"
   ]
  },
  {
   "cell_type": "code",
   "execution_count": 2,
   "id": "b6355b20",
   "metadata": {},
   "outputs": [],
   "source": [
    "y = np.load(r\"C:\\Users\\ricca\\Documents\\Unimib-Code\\AstroStatistics\\Notebooks\\Exam\\LIGO\\Npy\\y_ds_100k.npy\")\n",
    "data = np.load(r\"C:\\Users\\ricca\\Documents\\Unimib-Code\\AstroStatistics\\Notebooks\\Exam\\LIGO\\Npy\\data_ds_100k.npy\")\n",
    "keys = np.load(r\"C:\\Users\\ricca\\Documents\\Unimib-Code\\AstroStatistics\\Notebooks\\Exam\\LIGO\\Npy\\keys.npy\")"
   ]
  },
  {
   "cell_type": "code",
   "execution_count": 3,
   "id": "6b1120e5",
   "metadata": {},
   "outputs": [
    {
     "name": "stdout",
     "output_type": "stream",
     "text": [
      "Detectable signals : 14.7%\n"
     ]
    }
   ],
   "source": [
    "print(f'Detectable signals : {len(y[y==1])/len(y) * 100 :.3}%')"
   ]
  },
  {
   "cell_type": "markdown",
   "id": "e806aab4",
   "metadata": {},
   "source": [
    "We are looking for pretty rare signals, but not that rare actually..."
   ]
  },
  {
   "cell_type": "code",
   "execution_count": 5,
   "id": "0947ce95",
   "metadata": {},
   "outputs": [
    {
     "name": "stderr",
     "output_type": "stream",
     "text": [
      "ERROR: Could not find a version that satisfies the requirement tensorflow (from versions: none)\n",
      "ERROR: No matching distribution found for tensorflow\n"
     ]
    }
   ],
   "source": [
    "!pip install tensorflow"
   ]
  },
  {
   "cell_type": "code",
   "execution_count": null,
   "id": "bb922206",
   "metadata": {},
   "outputs": [],
   "source": []
  }
 ],
 "metadata": {
  "kernelspec": {
   "display_name": "venv",
   "language": "python",
   "name": "python3"
  },
  "language_info": {
   "codemirror_mode": {
    "name": "ipython",
    "version": 3
   },
   "file_extension": ".py",
   "mimetype": "text/x-python",
   "name": "python",
   "nbconvert_exporter": "python",
   "pygments_lexer": "ipython3",
   "version": "3.13.5"
  }
 },
 "nbformat": 4,
 "nbformat_minor": 5
}
