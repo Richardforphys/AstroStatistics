{
 "cells": [
  {
   "cell_type": "code",
   "execution_count": 87,
   "id": "18c9f46d",
   "metadata": {},
   "outputs": [],
   "source": [
    "import numpy as np"
   ]
  },
  {
   "cell_type": "code",
   "execution_count": 88,
   "id": "b0f484a9",
   "metadata": {},
   "outputs": [],
   "source": [
    "GAS_concentrations = np.array([64.5/100, 30/100, 4.5/100, 1/100])"
   ]
  },
  {
   "cell_type": "code",
   "execution_count": 89,
   "id": "70cbb316",
   "metadata": {},
   "outputs": [],
   "source": [
    "GAS_molar_masses = np.array([102.03, 44.009, 52.12, 146.06])"
   ]
  },
  {
   "cell_type": "code",
   "execution_count": 90,
   "id": "2d759856",
   "metadata": {},
   "outputs": [],
   "source": [
    "GWPS = np.array([1430, 1, 3.3, 22800])"
   ]
  },
  {
   "cell_type": "code",
   "execution_count": 91,
   "id": "65785fc1",
   "metadata": {},
   "outputs": [],
   "source": [
    "Numerator = np.dot(GAS_concentrations * GWPS, GAS_molar_masses)"
   ]
  },
  {
   "cell_type": "code",
   "execution_count": 92,
   "id": "48b58653",
   "metadata": {},
   "outputs": [],
   "source": [
    "Denominator = np.dot(GAS_concentrations, GAS_molar_masses)"
   ]
  },
  {
   "cell_type": "code",
   "execution_count": 93,
   "id": "42e96b14",
   "metadata": {},
   "outputs": [
    {
     "name": "stdout",
     "output_type": "stream",
     "text": [
      "GWP = 1538.6741540038672\n"
     ]
    }
   ],
   "source": [
    "print(f\"GWP = {Numerator/Denominator}\")"
   ]
  }
 ],
 "metadata": {
  "kernelspec": {
   "display_name": "AML",
   "language": "python",
   "name": "python3"
  },
  "language_info": {
   "codemirror_mode": {
    "name": "ipython",
    "version": 3
   },
   "file_extension": ".py",
   "mimetype": "text/x-python",
   "name": "python",
   "nbconvert_exporter": "python",
   "pygments_lexer": "ipython3",
   "version": "3.12.9"
  }
 },
 "nbformat": 4,
 "nbformat_minor": 5
}
