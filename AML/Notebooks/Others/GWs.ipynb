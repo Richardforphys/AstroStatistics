{
 "cells": [
  {
   "cell_type": "markdown",
   "metadata": {},
   "source": [
    "### Notebook goals:\n",
    "Simulate the motion of N test masses on a ring\n",
    "1.  **Cosinusoidal wave**\\\n",
    "    1.1  **Plus polarization,  x direction**  : strain as a function of the wave phase\\\n",
    "    1.2  **Cross polarization, x direction** : strain as a function of the wave phase\\\n",
    "2.  **Chirp wave** : strain as a function of the wave phase\n"
   ]
  },
  {
   "cell_type": "code",
   "execution_count": 602,
   "metadata": {},
   "outputs": [],
   "source": [
    "import numpy as np\n",
    "import matplotlib.pyplot as plt\n",
    "from matplotlib.patches import Ellipse"
   ]
  },
  {
   "cell_type": "code",
   "execution_count": 603,
   "metadata": {},
   "outputs": [],
   "source": [
    "def wave(A, phase):\n",
    "    return A * np.sin(phase)"
   ]
  },
  {
   "cell_type": "code",
   "execution_count": 604,
   "metadata": {},
   "outputs": [],
   "source": [
    "def angle(x,y):\n",
    "    return np.arctan2(x,y)"
   ]
  },
  {
   "cell_type": "code",
   "execution_count": 616,
   "metadata": {},
   "outputs": [],
   "source": [
    "P       = 4 # Number of phase evolution plots\n",
    "phases  = np.arange(0,2*np.pi+2*np.pi/P,2*np.pi/P)\n",
    "d0      = np.array([0,0,0,1])"
   ]
  },
  {
   "cell_type": "markdown",
   "metadata": {},
   "source": [
    "Initial positions of N test masses on a unit circle"
   ]
  },
  {
   "cell_type": "code",
   "execution_count": 617,
   "metadata": {},
   "outputs": [],
   "source": [
    "N = 10 # Number of masses\n",
    "theta = np.arange(0,2*np.pi, 2*np.pi/N)  # Angles for 4 masses\n",
    "x0 = np.cos(theta)  # X-coordinates\n",
    "y0 = np.sin(theta)  # Y-coordinates\n",
    "positions0 = np.vstack((x0, y0))  # Shape (2,4)"
   ]
  },
  {
   "cell_type": "markdown",
   "metadata": {},
   "source": [
    "Compute new positions and plot"
   ]
  },
  {
   "cell_type": "code",
   "execution_count": 618,
   "metadata": {},
   "outputs": [],
   "source": [
    "# Function to calculate strain tensor and new positions\n",
    "def get_positions(h, positions0):\n",
    "    return positions0 + 0.5 * h @ positions0"
   ]
  },
  {
   "cell_type": "code",
   "execution_count": 621,
   "metadata": {},
   "outputs": [
    {
     "name": "stderr",
     "output_type": "stream",
     "text": [
      "<>:32: SyntaxWarning: invalid escape sequence '\\p'\n",
      "<>:32: SyntaxWarning: invalid escape sequence '\\p'\n",
      "C:\\Users\\ricca\\AppData\\Local\\Temp\\ipykernel_15764\\1348923542.py:32: SyntaxWarning: invalid escape sequence '\\p'\n",
      "  ax.set_title(f\"$T = {phi/(2*np.pi):.2f} \\pi$\", fontsize=14)\n"
     ]
    }
   ],
   "source": [
    "# Function to plot each phase\n",
    "def plot_phase(ax, positions0, positions_new, phi, phase_label):\n",
    "    ax.scatter(positions0[0], positions0[1], color='blue', label='Initial', zorder=5, alpha=0.6)\n",
    "    ax.scatter(positions_new[0], positions_new[1], color='orange', label='After GW', zorder=5, alpha=0.6)\n",
    "\n",
    "    # Plot displacement vectors\n",
    "    for i in range(len(positions0)):\n",
    "        ax.plot([positions0[0, i], positions_new[0, i]], \n",
    "                [positions0[1, i], positions_new[1, i]], 'k--', lw=0.5)\n",
    "\n",
    "    # Fit an ellipse to the new red points\n",
    "    cov = np.cov(positions_new)\n",
    "    v, w = np.linalg.eigh(cov)  # Eigenvalues and eigenvectors\n",
    "    v = 2.0 * np.sqrt(2.0) * np.sqrt(v)  # Scale the axes\n",
    "    angle = np.arctan2(*w[:, 0][::-1])  # Compute angle of rotation\n",
    "\n",
    "    # Ellipse parameters\n",
    "    ellipse = Ellipse(xy=np.mean(positions_new, axis=1), width=v[0], height=v[1],\n",
    "                      angle=np.degrees(angle), color='orange', fill=False, linestyle='-', linewidth=2)\n",
    "    ax.add_patch(ellipse)\n",
    "    \n",
    "    # Plot the reference circle\n",
    "    circle = plt.Circle((0, 0), 1, color='gray', fill=False, linestyle='dotted', linewidth=1.2)\n",
    "    ax.add_patch(circle)\n",
    "    \n",
    "    # Formatting\n",
    "    ax.set_xlabel(\"$x$\", fontsize=12)\n",
    "    ax.set_ylabel(\"$y$\", fontsize=12)\n",
    "    ax.axhline(0, color='black', linewidth=0.5)\n",
    "    ax.axvline(0, color='black', linewidth=0.5)\n",
    "    ax.legend(loc='upper left', fontsize=10)\n",
    "    ax.set_title(f\"$T = {phi/(2*np.pi):.2f} \\pi$\", fontsize=14)\n",
    "    ax.set_aspect('equal')"
   ]
  },
  {
   "cell_type": "code",
   "execution_count": null,
   "metadata": {},
   "outputs": [],
   "source": [
    "# Create the subplots\n",
    "fig, axs = plt.subplots(2, P+1, figsize=(15, 10), sharex=False, sharey=True)\n",
    "\n",
    "# Loop over each polarization (A_plus and A_cross)\n",
    "for k in range(2):\n",
    "    if k == 0:\n",
    "        A_plus, A_cross = 1, 0  # \"+\" polarization\n",
    "    else:\n",
    "        A_plus, A_cross = 0, 1  # \"×\" polarization\n",
    "    \n",
    "    # Loop over each phase value\n",
    "    for i, phi in enumerate(phases):\n",
    "        ax = axs[k][i]\n",
    "        \n",
    "        # Calculate strain tensor h_ij\n",
    "        h_22 = wave(A_plus, phi)\n",
    "        h_33 = -h_22\n",
    "        h_23 = h_32 = wave(A_cross, phi)\n",
    "\n",
    "        h = np.array([[h_22, h_23],\n",
    "                      [h_32, h_33]])\n",
    "\n",
    "        # Get new positions after applying strain\n",
    "        positions_new = get_positions(h, positions0)\n",
    "\n",
    "        # Plot the phase results\n",
    "        plot_phase(ax, positions0, positions_new, phi, f\"Phase {i+1}\")\n",
    "\n",
    "# Adjust layout for better spacing\n",
    "plt.title(\"Polarized GW travelling along x\")\n",
    "plt.tight_layout()"
   ]
  },
  {
   "cell_type": "code",
   "execution_count": null,
   "metadata": {},
   "outputs": [],
   "source": []
  }
 ],
 "metadata": {
  "kernelspec": {
   "display_name": "AML",
   "language": "python",
   "name": "python3"
  },
  "language_info": {
   "codemirror_mode": {
    "name": "ipython",
    "version": 3
   },
   "file_extension": ".py",
   "mimetype": "text/x-python",
   "name": "python",
   "nbconvert_exporter": "python",
   "pygments_lexer": "ipython3",
   "version": "3.12.9"
  }
 },
 "nbformat": 4,
 "nbformat_minor": 2
}
