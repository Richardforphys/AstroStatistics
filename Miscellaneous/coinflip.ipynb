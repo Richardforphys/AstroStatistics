{
 "cells": [
  {
   "cell_type": "markdown",
   "id": "1e7db5a7",
   "metadata": {},
   "source": [
    "# Coin flip\n",
    "\n",
    "Frequentist vs bayesian"
   ]
  },
  {
   "cell_type": "code",
   "execution_count": 1,
   "id": "4cb3e9fc",
   "metadata": {},
   "outputs": [],
   "source": [
    "import numpy as np"
   ]
  },
  {
   "cell_type": "code",
   "execution_count": 4,
   "id": "72759d24",
   "metadata": {},
   "outputs": [],
   "source": [
    "N = 1000"
   ]
  },
  {
   "cell_type": "markdown",
   "id": "8a686665",
   "metadata": {},
   "source": [
    "Suppouse the coin is fair."
   ]
  },
  {
   "cell_type": "code",
   "execution_count": 2,
   "id": "b0573926",
   "metadata": {},
   "outputs": [],
   "source": [
    "p = 0.5"
   ]
  },
  {
   "cell_type": "code",
   "execution_count": 9,
   "id": "5b55afc7",
   "metadata": {},
   "outputs": [],
   "source": [
    "success = np.random.binomial(N, p, 1)"
   ]
  },
  {
   "cell_type": "code",
   "execution_count": 15,
   "id": "ff52da66",
   "metadata": {},
   "outputs": [],
   "source": [
    "b_MLE = success/N\n",
    "error_b_MLE = np.abs(1-b_MLE)/np.sqrt(N-success)"
   ]
  },
  {
   "cell_type": "code",
   "execution_count": 16,
   "id": "bcd30c2b",
   "metadata": {},
   "outputs": [
    {
     "name": "stdout",
     "output_type": "stream",
     "text": [
      "b=[0.501] pm [0.02233831]\n"
     ]
    }
   ],
   "source": [
    "print(f'b={b_MLE} pm {error_b_MLE}')"
   ]
  },
  {
   "cell_type": "code",
   "execution_count": 25,
   "id": "ba1a4b88",
   "metadata": {},
   "outputs": [
    {
     "name": "stdout",
     "output_type": "stream",
     "text": [
      "b=0.0, b_estimate=[0.] pm [0.03162278]\n",
      "b=0.1111111111111111, b_estimate=[0.109] pm [0.02984962]\n",
      "b=0.2222222222222222, b_estimate=[0.207] pm [0.02816026]\n",
      "b=0.3333333333333333, b_estimate=[0.315] pm [0.0261725]\n",
      "b=0.4444444444444444, b_estimate=[0.463] pm [0.02317326]\n",
      "b=0.5555555555555556, b_estimate=[0.546] pm [0.02130728]\n",
      "b=0.6666666666666666, b_estimate=[0.654] pm [0.01860108]\n",
      "b=0.7777777777777777, b_estimate=[0.772] pm [0.01509967]\n",
      "b=0.8888888888888888, b_estimate=[0.907] pm [0.00964365]\n",
      "b=1.0, b_estimate=[1.] pm [nan]\n"
     ]
    },
    {
     "name": "stderr",
     "output_type": "stream",
     "text": [
      "C:\\Users\\ricca\\AppData\\Local\\Temp\\ipykernel_3904\\3683099093.py:4: RuntimeWarning: invalid value encountered in divide\n",
      "  error_b_MLE = np.abs(1-b_MLE)/np.sqrt(N-success)\n"
     ]
    }
   ],
   "source": [
    "for b in np.linspace(0,1,10):\n",
    "    success = np.random.binomial(N, b, 1)\n",
    "    b_MLE = success/N\n",
    "    error_b_MLE = np.abs(1-b_MLE)/np.sqrt(N-success)\n",
    "    print(f'b={b}, b_estimate={b_MLE} pm {error_b_MLE}')"
   ]
  },
  {
   "cell_type": "code",
   "execution_count": null,
   "id": "9b2bd646",
   "metadata": {},
   "outputs": [],
   "source": []
  }
 ],
 "metadata": {
  "kernelspec": {
   "display_name": "venv",
   "language": "python",
   "name": "python3"
  },
  "language_info": {
   "codemirror_mode": {
    "name": "ipython",
    "version": 3
   },
   "file_extension": ".py",
   "mimetype": "text/x-python",
   "name": "python",
   "nbconvert_exporter": "python",
   "pygments_lexer": "ipython3",
   "version": "3.13.3"
  }
 },
 "nbformat": 4,
 "nbformat_minor": 5
}
